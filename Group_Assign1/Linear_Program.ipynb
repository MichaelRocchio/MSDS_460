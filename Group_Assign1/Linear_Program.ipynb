{
 "cells": [
  {
   "cell_type": "code",
   "execution_count": null,
   "metadata": {},
   "outputs": [],
   "source": [
    "import pandas as pd\n",
    "import pulp\n",
    "\n"
   ]
  },
  {
   "cell_type": "code",
   "execution_count": 3,
   "metadata": {},
   "outputs": [],
   "source": [
    "\n",
    "\n",
    "def solve_project_plan(df, case=\"expected\"):\n",
    "    # LP Model\n",
    "    lp_problem = pulp.LpProblem(\"Project_Planning\", pulp.LpMinimize)\n",
    "    \n",
    "    # Decision vars\n",
    "    start_times = pulp.LpVariable.dicts(\"start_time\", df[\"taskID\"], 0, None)\n",
    "    \n",
    "    # Objective function\n",
    "    project_end = pulp.LpVariable(\"project_end\", 0, None)\n",
    "    lp_problem += project_end, \"Minimize_Project_Duration\"\n",
    "    \n",
    "    # adding constraints\n",
    "    for index, row in df.iterrows():\n",
    "        task = row[\"taskID\"]\n",
    "        \n",
    "        # duration of cases\n",
    "        if case == \"best\":\n",
    "            duration = row[\"bestCaseHours\"]\n",
    "        elif case == \"worst\":\n",
    "            duration = row[\"worstCaseHours\"]\n",
    "        else:\n",
    "            duration = row[\"expectedHours\"]\n",
    "        \n",
    "        predecessors = str(row[\"predecessorTaskIDs\"]).split()\n",
    "        \n",
    "        # task duration constraint\n",
    "        lp_problem += start_times[task] + duration <= project_end\n",
    "        \n",
    "        # task dependencies constraints\n",
    "        for predecessor in predecessors:\n",
    "            lp_problem += start_times[task] >= start_times[predecessor] + duration\n",
    "    \n",
    "    # Solver\n",
    "    lp_problem.solve()\n",
    "    \n",
    "    # output prep\n",
    "    results = {\n",
    "        \"status\": pulp.LpStatus[lp_problem.status],\n",
    "        \"optimal_duration\": project_end.varValue,\n",
    "        \"task_start_times\": {task: var.varValue for task, var in start_times.items()}\n",
    "    }\n",
    "    \n",
    "    return results"
   ]
  },
  {
   "cell_type": "code",
   "execution_count": null,
   "metadata": {},
   "outputs": [],
   "source": [
    "xcases = [\"best\", \"expected\", \"worst\"]\n",
    "for case in cases:\n",
    "    result = solve_project_plan(project_plan_df, case)\n",
    "    print(f\"Results for {case} case:\")\n",
    "    print(f\"Optimal project duration: {result['optimal_duration']} hours\")\n",
    "    print(\"Start times for tasks:\")\n",
    "    for task, start_time in result[\"task_start_times\"].items():\n",
    "        print(f\"Task {task}: {start_time} hours\")\n",
    "    print(\"\\n\")"
   ]
  },
  {
   "cell_type": "code",
   "execution_count": 4,
   "metadata": {},
   "outputs": [
    {
     "ename": "NameError",
     "evalue": "name 'project_plan_df' is not defined",
     "output_type": "error",
     "traceback": [
      "\u001b[0;31m---------------------------------------------------------------------------\u001b[0m",
      "\u001b[0;31mNameError\u001b[0m                                 Traceback (most recent call last)",
      "\u001b[1;32mUntitled-1.ipynb Cell 2\u001b[0m line \u001b[0;36m2\n\u001b[1;32m      <a href='vscode-notebook-cell:Untitled-1.ipynb?jupyter-notebook#W1sdW50aXRsZWQ%3D?line=0'>1</a>\u001b[0m \u001b[39m# Decision Variables\u001b[39;00m\n\u001b[0;32m----> <a href='vscode-notebook-cell:Untitled-1.ipynb?jupyter-notebook#W1sdW50aXRsZWQ%3D?line=1'>2</a>\u001b[0m start_times \u001b[39m=\u001b[39m pulp\u001b[39m.\u001b[39mLpVariable\u001b[39m.\u001b[39mdicts(\u001b[39m\"\u001b[39m\u001b[39mstart_time\u001b[39m\u001b[39m\"\u001b[39m, project_plan_df[\u001b[39m\"\u001b[39m\u001b[39mtaskID\u001b[39m\u001b[39m\"\u001b[39m], \u001b[39m0\u001b[39m, \u001b[39mNone\u001b[39;00m)\n\u001b[1;32m      <a href='vscode-notebook-cell:Untitled-1.ipynb?jupyter-notebook#W1sdW50aXRsZWQ%3D?line=3'>4</a>\u001b[0m \u001b[39m# Obj Function\u001b[39;00m\n\u001b[1;32m      <a href='vscode-notebook-cell:Untitled-1.ipynb?jupyter-notebook#W1sdW50aXRsZWQ%3D?line=4'>5</a>\u001b[0m project_end \u001b[39m=\u001b[39m pulp\u001b[39m.\u001b[39mLpVariable(\u001b[39m\"\u001b[39m\u001b[39mproject_end\u001b[39m\u001b[39m\"\u001b[39m, \u001b[39m0\u001b[39m, \u001b[39mNone\u001b[39;00m)\n",
      "\u001b[0;31mNameError\u001b[0m: name 'project_plan_df' is not defined"
     ]
    }
   ],
   "source": [
    "lp_problem = pulp.LpProblem(\"Project_Planning\", pulp.LpMinimize)\n",
    "\n",
    "# Decision Variables\n",
    "start_times = pulp.LpVariable.dicts(\"start_time\", project_plan_df[\"taskID\"], 0, None)\n",
    "\n",
    "# Obj Function\n",
    "project_end = pulp.LpVariable(\"project_end\", 0, None)\n",
    "\n",
    "lp_problem += project_end, \"Minimize_Project_Duration\"\n",
    "\n",
    "# Next the constraints\n",
    "\n",
    "for index, row in project_plan_df.iterrows():\n",
    "    task = row[\"taskID\"]\n",
    "    duration = row[\"expectedHours\"]\n",
    "    predecessors = str(row[\"predecessorTaskIDs\"]).split()\n",
    "    \n",
    "    lp_problem += start_times[task] + duration <= project_end\n",
    "    \n",
    "    for predecessor in predecessors:\n",
    "        lp_problem += start_times[task] >= start_times[predecessor] + duration"
   ]
  }
 ],
 "metadata": {
  "kernelspec": {
   "display_name": "Python 3",
   "language": "python",
   "name": "python3"
  },
  "language_info": {
   "codemirror_mode": {
    "name": "ipython",
    "version": 3
   },
   "file_extension": ".py",
   "mimetype": "text/x-python",
   "name": "python",
   "nbconvert_exporter": "python",
   "pygments_lexer": "ipython3",
   "version": "3.10.5"
  }
 },
 "nbformat": 4,
 "nbformat_minor": 2
}

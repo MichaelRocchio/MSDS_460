{
 "cells": [
  {
   "cell_type": "code",
   "execution_count": 2,
   "metadata": {},
   "outputs": [
    {
     "data": {
      "text/plain": [
       "'TermAssignment_Presentation.pptx'"
      ]
     },
     "execution_count": 2,
     "metadata": {},
     "output_type": "execute_result"
    }
   ],
   "source": [
    "from pptx import Presentation\n",
    "from pptx.util import Inches, Pt\n",
    "import io\n",
    "\n",
    "# Create a presentation object\n",
    "prs = Presentation()\n",
    "\n",
    "# Function to add a slide with a title and content\n",
    "def add_slide(title, content):\n",
    "    slide_layout = prs.slide_layouts[1]  # Using layout 1 for title and content\n",
    "    slide = prs.slides.add_slide(slide_layout)\n",
    "    title_placeholder = slide.shapes.title\n",
    "    body_placeholder = slide.placeholders[1]\n",
    "    title_placeholder.text = title\n",
    "    tf = body_placeholder.text_frame\n",
    "    tf.text = content\n",
    "\n",
    "    # Formatting\n",
    "    for paragraph in tf.paragraphs:\n",
    "        for run in paragraph.runs:\n",
    "            run.font.size = Pt(18)\n",
    "\n",
    "# Adding slides\n",
    "add_slide(\"Introduction\", \"Abstract: The project simulates customer experiences in a burger shop to determine the optimal price for a premium subscription service, focusing on customer wait times, item profitability, and customer price tolerance.\")\n",
    "add_slide(\"Data Overview\", \"Includes a menu dataset detailing items sold, their prices, profitability, popularity, and preparation times. A customer base dataset details subscribers and their price tolerance.\")\n",
    "add_slide(\"Problem Set Up\", \"Simulation Design: The simulation aims to optimize the premium subscription price, considering customer wait times and profitability. Uses programming languages like Python, R, Julia, Go, and Scala.\")\n",
    "add_slide(\"Results & Analysis\", \"Optimal Solution: $11.60. The simulation provided insights into profit distribution, wait time analysis, order patterns, and subscriber behavior. It helped identify the optimal subscription price.\")\n",
    "add_slide(\"Conclusion\", \"The study successfully identified the optimal price for the premium subscription, balancing customer attraction and profitability. It also noted the importance of understanding customer behavior and operational processes.\")\n",
    "add_slide(\"Challenges and Limitations\", \"Includes complexities in simulation logic and accurately representing customer behavior. Predicting customer reactions to pricing changes and assessing long-term impact on loyalty were key challenges.\")\n",
    "\n",
    "# Save the presentation\n",
    "pptx_io = io.BytesIO()\n",
    "prs.save(pptx_io)\n",
    "pptx_io.seek(0)\n",
    "\n",
    "# File path\n",
    "file_path = 'TermAssignment_Presentation.pptx'\n",
    "with open(file_path, \"wb\") as f:\n",
    "    f.write(pptx_io.read())\n",
    "\n",
    "file_path\n"
   ]
  },
  {
   "cell_type": "code",
   "execution_count": 18,
   "metadata": {},
   "outputs": [
    {
     "data": {
      "text/plain": [
       "172778"
      ]
     },
     "execution_count": 18,
     "metadata": {},
     "output_type": "execute_result"
    }
   ],
   "source": [
    "len(df)"
   ]
  },
  {
   "cell_type": "code",
   "execution_count": 24,
   "metadata": {},
   "outputs": [],
   "source": [
    "import pandas as pd\n",
    "df=pd.read_csv(\"final_sim_df.csv\")\n",
    "del df['Unnamed: 0']\n",
    "final = pd.concat([df.loc[0:4], df.loc[172773:172778]])\n",
    "\n",
    "final.to_csv(\"final_data_sample.csv\")"
   ]
  },
  {
   "cell_type": "code",
   "execution_count": 29,
   "metadata": {},
   "outputs": [],
   "source": [
    "df['is_subscriber']=~df['is_subscriber']\n",
    "df.to_csv(\"final_data_sample.csv\")"
   ]
  }
 ],
 "metadata": {
  "kernelspec": {
   "display_name": "Python 3",
   "language": "python",
   "name": "python3"
  },
  "language_info": {
   "codemirror_mode": {
    "name": "ipython",
    "version": 3
   },
   "file_extension": ".py",
   "mimetype": "text/x-python",
   "name": "python",
   "nbconvert_exporter": "python",
   "pygments_lexer": "ipython3",
   "version": "3.10.5"
  }
 },
 "nbformat": 4,
 "nbformat_minor": 2
}

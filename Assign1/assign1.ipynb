{
 "cells": [
  {
   "cell_type": "code",
   "execution_count": 6,
   "metadata": {},
   "outputs": [
    {
     "name": "stderr",
     "output_type": "stream",
     "text": [
      "/Library/Frameworks/Python.framework/Versions/3.10/lib/python3.10/site-packages/pulp/pulp.py:1352: UserWarning: Spaces are not permitted in the name. Converted to '_'\n",
      "  warnings.warn(\"Spaces are not permitted in the name. Converted to '_'\")\n"
     ]
    },
    {
     "data": {
      "text/plain": [
       "The_Diet_Problem:\n",
       "MINIMIZE\n",
       "1*Food_Banana + 1*Food_Nuts + 1*Food_Salmon + 1*Food_Whole_Grain_Bread + 1*Food_Yogurt + 0\n",
       "SUBJECT TO\n",
       "Min_Calories: 120 Food_Banana + 170 Food_Nuts + 520 Food_Salmon\n",
       " + 140 Food_Whole_Grain_Bread + 140 Food_Yogurt >= 2000\n",
       "\n",
       "Min_Protein: Food_Banana + 5 Food_Nuts + 41 Food_Salmon\n",
       " + 4 Food_Whole_Grain_Bread + 10 Food_Yogurt >= 50\n",
       "\n",
       "Min_Vitamin_D: 22 Food_Salmon >= 20\n",
       "\n",
       "Min_Calcium: 7 Food_Banana + 30 Food_Nuts + 20 Food_Salmon\n",
       " + 52 Food_Whole_Grain_Bread + 130 Food_Yogurt >= 1300\n",
       "\n",
       "Min_Iron: 0.9 Food_Nuts + 0.91 Food_Salmon >= 18\n",
       "\n",
       "Min_Potassium: 487 Food_Banana + 190 Food_Nuts + 800 Food_Salmon\n",
       " + 188 Food_Yogurt >= 4700\n",
       "\n",
       "Max_Sodium: 75 Food_Nuts + 710 Food_Salmon + 260 Food_Whole_Grain_Bread\n",
       " + 80 Food_Yogurt <= 5000\n",
       "\n",
       "VARIABLES\n",
       "Food_Banana Continuous\n",
       "Food_Nuts Continuous\n",
       "Food_Salmon Continuous\n",
       "Food_Whole_Grain_Bread Continuous\n",
       "Food_Yogurt Continuous"
      ]
     },
     "execution_count": 6,
     "metadata": {},
     "output_type": "execute_result"
    }
   ],
   "source": [
    "from pulp import LpMinimize, LpProblem, LpVariable, lpSum\n",
    "\n",
    "# Define the problem\n",
    "prob = LpProblem(\"The Diet Problem\", LpMinimize)\n",
    "\n",
    "\n",
    "food_items = ['Whole_Grain_Bread', 'Banana', 'Yogurt', 'Nuts', 'Salmon']\n",
    "food_vars = LpVariable.dicts(\"Food\", food_items, lowBound=0, cat='Continuous')\n",
    "\n",
    "\n",
    "\n",
    "\n",
    "costs = {food: 1 for food in food_items} \n",
    "prob += lpSum([costs[i]*food_vars[i] for i in food_items]), \"Total Cost of the Diet\"\n",
    "\n",
    "# Nutritional information extracted from the image (per serving)\n",
    "nutrition_info = {\n",
    "    'Calories': {'Whole_Grain_Bread': 140, 'Banana': 120, 'Yogurt': 140, 'Nuts': 170, 'Salmon': 520},\n",
    "    'Protein': {'Whole_Grain_Bread': 4, 'Banana': 1, 'Yogurt': 10, 'Nuts': 5, 'Salmon': 41},\n",
    "    'Vitamin_D': {'Whole_Grain_Bread': 0, 'Banana': 0, 'Yogurt': 0, 'Nuts': 0, 'Salmon': 22},\n",
    "    'Calcium': {'Whole_Grain_Bread': 52, 'Banana': 7, 'Yogurt': 130, 'Nuts': 30, 'Salmon': 20},\n",
    "    'Iron': {'Whole_Grain_Bread': 0, 'Banana': 0, 'Yogurt': 0, 'Nuts': 0.9, 'Salmon': 0.91},\n",
    "    'Potassium': {'Whole_Grain_Bread': 0, 'Banana': 487, 'Yogurt': 188, 'Nuts': 190, 'Salmon': 800},\n",
    "    'Sodium': {'Whole_Grain_Bread': 260, 'Banana': 0, 'Yogurt': 80, 'Nuts': 75, 'Salmon': 710}\n",
    "}\n",
    "\n",
    "\n",
    "constraints = {\n",
    "    'Calories': {'min': 2000},\n",
    "    'Protein': {'min': 50},\n",
    "    'Vitamin_D': {'min': 20},\n",
    "    'Calcium': {'min': 1300},\n",
    "    'Iron': {'min': 18},\n",
    "    'Potassium': {'min': 4700},\n",
    "    'Sodium': {'max': 5000},\n",
    "}\n",
    "\n",
    "\n",
    "for nutrient, constraint in constraints.items():\n",
    "    if 'min' in constraint:\n",
    "        prob += lpSum([nutrition_info[nutrient][i] * food_vars[i] for i in food_items]) >= constraint['min'], f\"Min_{nutrient}\"\n",
    "    if 'max' in constraint:\n",
    "        prob += lpSum([nutrition_info[nutrient][i] * food_vars[i] for i in food_items]) <= constraint['max'], f\"Max_{nutrient}\"\n",
    "\n",
    "prob\n"
   ]
  },
  {
   "cell_type": "code",
   "execution_count": 7,
   "metadata": {},
   "outputs": [
    {
     "name": "stdout",
     "output_type": "stream",
     "text": [
      "Welcome to the CBC MILP Solver \n",
      "Version: 2.10.3 \n",
      "Build Date: Dec 15 2019 \n",
      "\n",
      "command line - /Library/Frameworks/Python.framework/Versions/3.10/lib/python3.10/site-packages/pulp/solverdir/cbc/osx/64/cbc /var/folders/s2/q9mbkp214x35m1r7fqtd0d840000gn/T/0feb0a9277704640b4c71e22d2aa9699-pulp.mps timeMode elapsed branch printingOptions all solution /var/folders/s2/q9mbkp214x35m1r7fqtd0d840000gn/T/0feb0a9277704640b4c71e22d2aa9699-pulp.sol (default strategy 1)\n",
      "At line 2 NAME          MODEL\n",
      "At line 3 ROWS\n",
      "At line 12 COLUMNS\n",
      "At line 44 RHS\n",
      "At line 52 BOUNDS\n",
      "At line 53 ENDATA\n",
      "Problem MODEL has 7 rows, 5 columns and 26 elements\n",
      "Coin0008I MODEL read with 0 errors\n",
      "Option for timeMode changed from cpu to elapsed\n",
      "Presolve 4 (-3) rows, 5 (0) columns and 15 (-11) elements\n",
      "Perturbing problem by 0.001% of 8.40586 - largest nonzero change 0.00023186723 ( 0.0068959995%) - largest zero change 0\n",
      "0  Obj 15.22941 Primal inf 12.829472 (3)\n",
      "2  Obj 25.447847\n",
      "Optimal - objective value 25.446775\n",
      "After Postsolve, objective 25.446775, infeasibilities - dual 0 (0), primal 0 (0)\n",
      "Optimal objective 25.44677545 - 2 iterations time 0.002, Presolve 0.00\n",
      "Option for printingOptions changed from normal to all\n",
      "Total time (CPU seconds):       0.00   (Wallclock seconds):       0.01\n",
      "\n"
     ]
    },
    {
     "data": {
      "text/plain": [
       "1"
      ]
     },
     "execution_count": 7,
     "metadata": {},
     "output_type": "execute_result"
    }
   ],
   "source": [
    "prob.solve()"
   ]
  },
  {
   "cell_type": "code",
   "execution_count": 8,
   "metadata": {},
   "outputs": [
    {
     "name": "stdout",
     "output_type": "stream",
     "text": [
      "Optimal Diet Plan:\n",
      "Food_Banana: 0.0 servings\n",
      "Food_Nuts: 19.080808 servings\n",
      "Food_Salmon: 0.90909091 servings\n",
      "Food_Whole_Grain_Bread: 0.0 servings\n",
      "Food_Yogurt: 5.4568765 servings\n"
     ]
    }
   ],
   "source": [
    "print(\"Optimal Diet Plan:\")\n",
    "for v in prob.variables():\n",
    "    print(f\"{v.name}: {v.varValue} servings\")"
   ]
  }
 ],
 "metadata": {
  "kernelspec": {
   "display_name": "Python 3",
   "language": "python",
   "name": "python3"
  },
  "language_info": {
   "codemirror_mode": {
    "name": "ipython",
    "version": 3
   },
   "file_extension": ".py",
   "mimetype": "text/x-python",
   "name": "python",
   "nbconvert_exporter": "python",
   "pygments_lexer": "ipython3",
   "version": "3.10.5"
  }
 },
 "nbformat": 4,
 "nbformat_minor": 2
}
